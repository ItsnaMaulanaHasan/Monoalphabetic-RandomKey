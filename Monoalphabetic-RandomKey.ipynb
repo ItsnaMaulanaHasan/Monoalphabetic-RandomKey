{
  "nbformat": 4,
  "nbformat_minor": 0,
  "metadata": {
    "colab": {
      "provenance": []
    },
    "kernelspec": {
      "name": "python3",
      "display_name": "Python 3"
    },
    "language_info": {
      "name": "python"
    }
  },
  "cells": [
    {
      "cell_type": "markdown",
      "source": [
        "MONOALPHABETIC RANDOM KEY"
      ],
      "metadata": {
        "id": "b-sYIv6aMvdM"
      }
    },
    {
      "cell_type": "code",
      "execution_count": null,
      "metadata": {
        "id": "BfBlttAq48N5"
      },
      "outputs": [],
      "source": [
        "# Import library yang diperlukan\n",
        "import random\n",
        "import string"
      ]
    },
    {
      "cell_type": "markdown",
      "source": [
        "import **string** digunakan untuk mengimpor modul string ke dalam program.\n",
        "\n",
        "import **random** digunakan untuk mengimpor modul random ke dalam program."
      ],
      "metadata": {
        "id": "lqK7F_jF5M0P"
      }
    },
    {
      "cell_type": "code",
      "source": [
        "# Fungsi untuk menghasilkan kunci acak\n",
        "def generate_random_key():\n",
        "\n",
        "   # Membuat daftar (list) yang berisi huruf alfabet kecil\n",
        "    abjad = list(string.ascii_lowercase)\n",
        "\n",
        "     # Mengacak urutan huruf-huruf dalam daftar\n",
        "    random.shuffle(abjad)\n",
        "\n",
        "     # Menggabungkan huruf-huruf yang sudah diacak menjadi sebuah string\n",
        "    return ''.join(abjad)\n"
      ],
      "metadata": {
        "id": "nU0uN-dF5Wjy"
      },
      "execution_count": null,
      "outputs": []
    },
    {
      "cell_type": "markdown",
      "source": [
        "1.\t**def generate_random_key()** --> Fungsi ini menghasilkan kunci acak untuk enkripsi monoalfabetik dengan cara mengacak urutan huruf-huruf alfabet kecil.\n",
        "\n",
        "2.\t**abjad = list(string.ascii_lowercase)** --> Membuat daftar (list) yang berisi huruf alfabet kecil\n",
        "\n",
        "3.\t**random.shuffle(abjad)**  --> Mengacak urutan huruf-huruf dalam daftar\n",
        "\n",
        "4.\t**kunci_acak = ''.join(abjad)** --> Menggabungkan huruf-huruf yang sudah diacak menjadi sebuah string\n",
        "\n",
        "5.\treturn kunci_acak\n",
        "\n"
      ],
      "metadata": {
        "id": "g8Qr_QWd52nI"
      }
    },
    {
      "cell_type": "code",
      "source": [
        "# Fungsi untuk melakukan enkripsi dengan monoalfabetik\n",
        "def enkripsi_monoalfabetik(plaintext, kunci):\n",
        "\n",
        "   # Mendefinisikan abjad alfabet\n",
        "    abjad = string.ascii_lowercase\n",
        "\n",
        "  # Membuat mapping (pemetaan) antara huruf abjad dengan kunci\n",
        "  mapping = dict(zip(abjad, kunci))\n",
        "\n",
        "  # Melakukan enkripsi dengan menggantikan setiap karakter dalam plaintext dengan karakter yang sesuai dalam kunci, atau mempertahankan karakter jika tidak ada dalam kunci\n",
        "  hasil = ''.join(mapping.get(karakter, karakter) for karakter in plaintext)\n",
        "\n",
        "  return hasil"
      ],
      "metadata": {
        "id": "5r9dx1QQ7AxX"
      },
      "execution_count": null,
      "outputs": []
    },
    {
      "cell_type": "markdown",
      "source": [
        "1.\t**def enkripsi_monoalfabetik(plaintext, kunci):** --> Fungsi ini melakukan enkripsi teks plaintext menggunakan metode monoalfabetik substitution.\n",
        "\n",
        "2.\t**plaintext (str):** Teks yang akan dienkripsi.\n",
        "\n",
        "3.\t**kunci (str):** Kunci penggantian huruf.\n",
        "\n",
        "4.\t**abjad = string.ascii_lowercase** --> # Mendefinisikan abjad alfabet\n",
        "\n",
        "5.\t**mapping = dict(zip(abjad, kunci))** --> # Membuat mapping (pemetaan) antara huruf abjad dengan kunci\n",
        "\n",
        "6.\t**dict(zip(abjad, kunci))** digunakan untuk membuat sebuah kamus (dictionary) di mana huruf-huruf dari abjad alfabet (abjad) digabungkan dengan karakter-karakter dari kunci penggantian huruf (kunci). Dengan kata lain, ini adalah cara untuk membuat pemetaan huruf-huruf alfabet dengan karakter-karakter dalam kunci\n",
        "\n",
        "7.\t**hasil = ''.join(mapping.get(karakter, karakter) for karakter in plaintext)** --> # Melakukan enkripsi dengan menggantikan setiap karakter dalam plaintext dengan karakter yang sesuai dalam kunci, atau mempertahankan karakter jika tidak ada dalam kunci\n",
        "\n",
        "8.\t**return hasil** --> # mengembalikan nilai hasilnya\n",
        "\n"
      ],
      "metadata": {
        "id": "ijVRd-eCDEzK"
      }
    },
    {
      "cell_type": "code",
      "source": [
        "# Fungsi untuk melakukan dekripsi dengan monoalfabetik\n",
        "def dekripsi_monoalfabetik(ciphertext, kunci):\n",
        "\n",
        "  # Mendefinisikan abjad alfabet\n",
        "    abjad = string.ascii_lowercase\n",
        "\n",
        "  # Membuat mapping (pemetaan) terbalik antara kunci dan huruf abjad\n",
        "  reverse_mapping = dict(zip(kunci, abjad))\n",
        "\n",
        "  # Melakukan dekripsi dengan menggantikan setiap karakter dalam ciphertext dengan karakter yang sesuai di kunci dalam pemetaan terbalik, atau mempertahankan karakter jika tidak ada dalam pemetaan terbalik\n",
        "  hasil = ''.join(reverse_mapping.get(karakter, karakter) for karakter in ciphertext)\n",
        "\n",
        "  return hasil"
      ],
      "metadata": {
        "id": "sCL98cVFBVuT"
      },
      "execution_count": null,
      "outputs": []
    },
    {
      "cell_type": "markdown",
      "source": [
        "1.\t**def dekripsi_monoalfabetik(ciphertext, kunci)**: -->  Fungsi ini melakukan dekripsi teks ciphertext yang telah dienkripsi menggunakan metode monoalfabetik substitution.\n",
        "\n",
        "2.\t**ciphertext (str):** Teks yang akan didekripsi.\n",
        "\n",
        "3.\t**kunci (str):** Kunci penggantian huruf.\n",
        "\n",
        "4.\t**abjad = string.ascii_lowercase** --> # Mendefinisikan abjad alfabet\n",
        "\n",
        "5.\t**reverse_mapping = dict(zip(kunci, abjad))** -->  # Membuat mapping (pemetaan)terbalik antara kunci dan huruf abjad\n",
        "\n",
        "6.\t**dict(zip(abjad, kunci))** digunakan untuk membuat sebuah kamus (dictionary) di mana huruf-huruf dari abjad alfabet (abjad) digabungkan dengan karakter-karakter dari kunci penggantian huruf (kunci). Dengan kata lain, ini adalah cara untuk membuat pemetaan huruf-huruf alfabet dengan karakter-karakter dalam kunci\n",
        "\n",
        "7.\t**hasil = ''.join(reverse_mapping.get(karakter, karakter) for karakter in ciphertext)**--> #Melakukan dekripsi dengan menggantikan setiap karakter dalam ciphertext dengan karakter yang sesuai dalam pemetaan terbalik, atau mempertahankan karakter jika tidak ada dalam pemetaan terbalik\n",
        "\n",
        "8.\t**return hasil** --> # mengembalikan nilai hasilnya\n",
        "\n"
      ],
      "metadata": {
        "id": "WQSlzq0lFDG-"
      }
    },
    {
      "cell_type": "code",
      "source": [
        "# Fungsi utama program\n",
        "def main():\n",
        "    # Membuat kunci acak\n",
        "    kunci = generate_random_key()\n",
        "\n",
        "    print(\"Program Enkripsi Monoalfabetik\")\n",
        "    print(\"=============================\")\n",
        "\n",
        "    # Visualisasi penggantian huruf menjadi KEY\n",
        "    print(\"\\nVisualisasi penggantian huruf menjadi KEY:\")\n",
        "\n",
        "     #menggunakan perulangan for dengan parameter huruf_awal berisi dari semua huruf kecil, huruf_terenkripsi berisi dari kunci\n",
        "    for huruf_awal, huruf_terenkripsi in zip(string.ascii_lowercase, kunci):\n",
        "      #menampilkan semua huruf kecil dan perubahannya menjadi key\n",
        "        print(f\"{huruf_awal} => {huruf_terenkripsi}\")\n",
        "\n",
        "    #menampilkan key\n",
        "    print(\"🔑 Kunci Enkripsi:\", kunci)\n",
        "\n",
        "    #Menggunakan perulangan while agar program auto berulang\n",
        "    while True:\n",
        "\n",
        "        # Meminta pengguna memilih mode\n",
        "        mode = input(\"\\nPilih mode: (1) Enkripsi (2) Dekripsi (3) Hentikan program : \")\n",
        "\n",
        "        # Mode enkripsi\n",
        "        if mode == '1':\n",
        "\n",
        "            #input plaintext lalu diubah jadi huruf kecil dengan fungsi lower()\n",
        "            plaintext = input(\"Masukkan teks plaintext: \").lower()\n",
        "\n",
        "            #memanggil fungsi enkripsi monoalfabetik dengan parameter dari inputan plaintext dan kunci yang digenerate tadi lalu ditampung dalam variabel ciphertext\n",
        "            ciphertext = enkripsi_monoalfabetik(plaintext, kunci)\n",
        "\n",
        "            # Visualisasi penggantian huruf hanya pada kata yang diinput\n",
        "            print(\"\\nVisualisasi penggantian huruf:\")\n",
        "\n",
        "            #menggunakan perulangan for dengan parameter huruf_awal berisi dari plaintext, huruf_terenkripsi berisi dari ciphertext\n",
        "            for huruf_awal, huruf_terenkripsi in zip(plaintext, ciphertext):\n",
        "\n",
        "                #tampilkan huruf dari dari kata yg diinput di plaintext tadi jika ada di dalam daftar huruf kecil\n",
        "                if huruf_awal in string.ascii_lowercase:\n",
        "                    print(f\"{huruf_awal} => {huruf_terenkripsi}\")\n",
        "\n",
        "            print(\"Teks terenkripsi:\", ciphertext)\n",
        "\n",
        "        # Mode dekripsi\n",
        "        elif mode == '2':\n",
        "\n",
        "            #input ciphertext lalu diubah jadi huruf kecil dengan fungsi lower()\n",
        "            ciphertext = input(\"Masukkan teks ciphertext: \").lower()\n",
        "\n",
        "             #memanggil fungsi dekripsi monoalfabetik dengan parameter dari inputan ciphertext dan kunci yang digenerate tadi lalu ditampung dalam variabel plaintext\n",
        "            plaintext = dekripsi_monoalfabetik(ciphertext, kunci)\n",
        "\n",
        "            # Visualisasi pengembalian huruf hanya pada kata yang diinput\n",
        "            print(\"\\nVisualisasi penggantian huruf:\")\n",
        "\n",
        "            #menggunakan perulangan for dengan parameter huruf_awal berisi dari ciphertext, huruf_terdekripsi berisi dari plaintext\n",
        "            for huruf_awal, huruf_terdekripsi in zip(ciphertext, plaintext):\n",
        "\n",
        "               #tampilkan huruf dari dari kata yg diinput di ciphertext tadi jika ada di dalam daftar huruf kecil\n",
        "                if huruf_awal in string.ascii_lowercase:\n",
        "                    print(f\"{huruf_awal} => {huruf_terdekripsi}\")\n",
        "\n",
        "            print(\"Teks terdekripsi:\", plaintext)\n",
        "\n",
        "        elif mode == '3':\n",
        "            # Keluar dari program\n",
        "            print(\"Program Dihentikan !\")\n",
        "            break\n",
        "\n",
        "        else:\n",
        "            print(\"Pilihan mode tidak valid!\")\n",
        "\n",
        "if __name__ == \"__main__\":\n",
        "    main()"
      ],
      "metadata": {
        "id": "F9hVkvqOIUdB",
        "colab": {
          "base_uri": "https://localhost:8080/"
        },
        "outputId": "da81eff2-8ea6-47ec-a94f-8d74ffe5a094"
      },
      "execution_count": null,
      "outputs": [
        {
          "output_type": "stream",
          "name": "stdout",
          "text": [
            "Program Enkripsi Monoalfabetik\n",
            "=============================\n",
            "\n",
            "Visualisasi penggantian huruf menjadi KEY:\n",
            "a => a\n",
            "b => y\n",
            "c => v\n",
            "d => r\n",
            "e => l\n",
            "f => o\n",
            "g => i\n",
            "h => c\n",
            "i => m\n",
            "j => w\n",
            "k => d\n",
            "l => t\n",
            "m => f\n",
            "n => k\n",
            "o => h\n",
            "p => q\n",
            "q => j\n",
            "r => u\n",
            "s => s\n",
            "t => b\n",
            "u => x\n",
            "v => g\n",
            "w => p\n",
            "x => z\n",
            "y => n\n",
            "z => e\n",
            "🔑 Kunci Enkripsi: ayvrloicmwdtfkhqjusbxgpzne\n",
            "\n",
            "Pilih mode: (1) Enkripsi (2) Dekripsi (3) Hentikan program : coba dulu\n",
            "Pilihan mode tidak valid!\n",
            "\n",
            "Pilih mode: (1) Enkripsi (2) Dekripsi (3) Hentikan program : 1\n",
            "Masukkan teks plaintext: coba dulu\n",
            "\n",
            "Visualisasi penggantian huruf:\n",
            "c => v\n",
            "o => h\n",
            "b => y\n",
            "a => a\n",
            "d => r\n",
            "u => x\n",
            "l => t\n",
            "u => x\n",
            "Teks terenkripsi: vhya rxtx\n",
            "\n",
            "Pilih mode: (1) Enkripsi (2) Dekripsi (3) Hentikan program : 2\n",
            "Masukkan teks ciphertext: vhya rxtx\n",
            "\n",
            "Visualisasi penggantian huruf:\n",
            "v => c\n",
            "h => o\n",
            "y => b\n",
            "a => a\n",
            "r => d\n",
            "x => u\n",
            "t => l\n",
            "x => u\n",
            "Teks terdekripsi: coba dulu\n",
            "\n",
            "Pilih mode: (1) Enkripsi (2) Dekripsi (3) Hentikan program : 3\n",
            "Program Dihentikan !\n"
          ]
        }
      ]
    },
    {
      "cell_type": "markdown",
      "source": [
        "1.\t**def main():** --> #Fungsi utama program\n",
        "2.\t**kunci = generate_random_key()** -->     # Membuat kunci acak\n",
        "3.\t**print(\"\\nVisualisasi penggantian huruf menjadi KEY:\")** -->     # Visualisasi penggantian huruf menjadi KEY\n",
        "4.\t**for huruf_awal, huruf_terenkripsi in zip(string.ascii_lowercase, kunci)**: -->      #menggunakan perulangan for dengan parameter huruf_awal berisi dari semua huruf kecil, huruf_terenkripsi berisi dari kunci\n",
        "5.\t**print(f\"{huruf_awal} => {huruf_terenkripsi}\")** --> #menampilkan semua huruf kecil dan perubahannya menjadi key\n",
        "6.\t**print(\"Kunci Enkripsi:\", kunci)** -->     #menampilkan key\n",
        "7.\t**while True:** -->     #Menggunakan perulangan while agar program auto berulang\n",
        "8.\t**mode = input(\"\\nPilih mode: (1) Enkripsi (2) Dekripsi (3) Hentikan program : \")** --> # Meminta pengguna memilih mode\n",
        "9.\t**if mode == '1':** --> # Mode enkripsi\n",
        "10.\t**plaintext = input(\"Masukkan teks plaintext: \").lower()** -->             #input plaintext lalu diubah jadi huruf kecil dengan fungsi lower()\n",
        "11.\t**ciphertext = enkripsi_monoalfabetik(plaintext, kunci)** -->             #memanggil fungsi enkripsi monoalfabetik dengan parameter dari inputan plaintext dan kunci yang digenerate tadi lalu ditampung dalam variabel ciphertext\n",
        "12.\t**print(\"\\nVisualisasi penggantian huruf:\")** -->             # Visualisasi penggantian huruf hanya pada kata yang diinput\n",
        "13.\t**for huruf_awal, huruf_terenkripsi in zip(plaintext, ciphertext):** --> #menggunakan perulangan for dengan parameter huruf_awal berisi dari plaintext, huruf_terenkripsi berisi dari ciphertext\n",
        "14.\t**if huruf_awal in string.ascii_lowercase:**\n",
        "15.\t**print(f\"{huruf_awal} => {huruf_terenkripsi}\")** --> #tampilkan huruf dari dari kata yg diinput di plaintext tadi jika ada di dalam daftar huruf kecil\n",
        "16.\t**print(\"Teks terenkripsi:\", ciphertext)**\n",
        "17.\t**elif mode == '2':** --> # Mode dekripsi\n",
        "18.\t**ciphertext = input(\"Masukkan teks ciphertext: \").lower()** --> #input ciphertext lalu diubah jadi huruf kecil dengan fungsi lower()\n",
        "19.\t**plaintext = dekripsi_monoalfabetik(ciphertext, kunci)** --> #memanggil fungsi dekripsi monoalfabetik dengan parameter dari inputan ciphertext dan kunci yang digenerate tadi lalu ditampung dalam variabel plaintext\n",
        "20.\t**print(\"\\nVisualisasi penggantian huruf:\")** --> # Visualisasi pengembalian huruf hanya pada kata yang diinput\n",
        "21.\t**for huruf_awal, huruf_terdekripsi in zip(ciphertext, plaintext):** --> #menggunakan perulangan for dengan parameter huruf_awal berisi dari ciphertext, huruf_terdekripsi berisi dari plaintext\n",
        "22.\t**if huruf_awal in string.ascii_lowercase:**\n",
        "23.\t**print(f\"{huruf_awal} => {huruf_terdekripsi}\") ** --> #tampilkan huruf dari dari kata yg diinput di ciphertext tadi jika ada di dalam daftar huruf kecil\n",
        "24.\t**print(\"Teks terdekripsi:\", plaintext)**\n",
        "25.\t**elif mode == '3':** --> # Keluar dari program\\\n",
        "26.\t**print(\"Program Dihentikan !\")**\n",
        "27.\t**break**\n",
        "28.\telse:\n",
        "29.\tprint(\"Pilihan mode tidak valid!\") **bold text**\n",
        "30.\tif __name__ == \"__main__\":\n",
        "31.\tmain() **bold text**--> #Jalankan Program"
      ],
      "metadata": {
        "id": "01qX3hRlNj09"
      }
    }
  ]
}